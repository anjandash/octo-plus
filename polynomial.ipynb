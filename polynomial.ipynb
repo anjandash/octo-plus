{
 "cells": [
  {
   "cell_type": "markdown",
   "metadata": {},
   "source": [
    "# Simple"
   ]
  },
  {
   "cell_type": "code",
   "execution_count": 115,
   "metadata": {},
   "outputs": [],
   "source": [
    "import pandas as pd\n",
    "import seaborn as sns\n",
    "import numpy as np\n",
    "from sklearn.linear_model import LinearRegression\n",
    "from sklearn.preprocessing import MinMaxScaler\n",
    "from sklearn.model_selection import train_test_split\n",
    "from sklearn.metrics import mean_squared_error\n",
    "from sklearn.preprocessing import PolynomialFeatures\n",
    "from sklearn.ensemble import RandomForestRegressor\n",
    "from sklearn.datasets import make_regression\n",
    "from sklearn.metrics import accuracy_score\n",
    "\n",
    "\n",
    "%matplotlib inline"
   ]
  },
  {
   "cell_type": "code",
   "execution_count": 116,
   "metadata": {},
   "outputs": [],
   "source": [
    "df = pd.read_csv('simple.csv', sep=';')\n",
    "df = df[['base', 'rate', 'fee']]\n",
    "df = df.replace(regex=[','],value='.')\n",
    "df = df.dropna()"
   ]
  },
  {
   "cell_type": "code",
   "execution_count": 117,
   "metadata": {},
   "outputs": [],
   "source": [
    "df['base'] = pd.to_numeric(df['base'])\n",
    "df['fee'] = pd.to_numeric(df['fee'])\n",
    "df['rate'] = pd.to_numeric(df['rate'])"
   ]
  },
  {
   "cell_type": "code",
   "execution_count": 118,
   "metadata": {
    "scrolled": true
   },
   "outputs": [
    {
     "data": {
      "image/png": "[encoded data removed]",
      "text/plain": [
       "<Figure size 432x288 with 2 Axes>"
      ]
     },
     "metadata": {
      "needs_background": "light"
     },
     "output_type": "display_data"
    }
   ],
   "source": [
    "sns.heatmap(df.corr(), annot=True);"
   ]
  },
  {
   "cell_type": "code",
   "execution_count": 119,
   "metadata": {},
   "outputs": [],
   "source": [
    "X = np.array(df[['base', 'rate']])\n",
    "\n",
    "y = np.array(df['fee'])\n",
    "y = pd.to_numeric(y)"
   ]
  },
  {
   "cell_type": "code",
   "execution_count": 120,
   "metadata": {},
   "outputs": [],
   "source": [
    "scaler = MinMaxScaler(feature_range=(0, 1))\n",
    "scaler.fit(X)\n",
    "X = scaler.transform(X)"
   ]
  },
  {
   "cell_type": "code",
   "execution_count": 123,
   "metadata": {},
   "outputs": [
    {
     "name": "stdout",
     "output_type": "stream",
     "text": [
      "rmse_linear =  24.594245460134367\n",
      "rmse_poly2 =  0.0026830093716268466\n",
      "rmse_poly3 =  0.0025794993589597346\n",
      "rmse_poly4 =  0.002700929392525724\n",
      "rmse random forest =  2.3988675617103348\n"
     ]
    }
   ],
   "source": [
    "poly2 = PolynomialFeatures(degree=2, include_bias=True)\n",
    "poly3 = PolynomialFeatures(degree=3, include_bias=True)\n",
    "poly4 = PolynomialFeatures(degree=4, include_bias=True)\n",
    "\n",
    "rmse_linear = 0\n",
    "rmse_poly2 = 0\n",
    "rmse_poly3 = 0\n",
    "rmse_poly4 = 0\n",
    "rmse_random_forest = 0\n",
    "\n",
    "k_folds = 5\n",
    "for fold in range(k_folds):\n",
    "    X_train, X_test, y_train, y_test = train_test_split(\n",
    "        X, y, test_size=0.20)\n",
    "    poly_features_train2 = poly2.fit_transform(X_train)\n",
    "    poly_features_test2 = poly2.fit_transform(X_test)\n",
    "    poly_features_train3 = poly3.fit_transform(X_train)\n",
    "    poly_features_test3 = poly3.fit_transform(X_test)\n",
    "    poly_features_train4 = poly4.fit_transform(X_train)\n",
    "    poly_features_test4 = poly4.fit_transform(X_test)\n",
    "    poly_reg_model2 = LinearRegression()\n",
    "    poly_reg_model2.fit(poly_features_train2, y_train)\n",
    "    poly_reg_model3 = LinearRegression()\n",
    "    poly_reg_model3.fit(poly_features_train3, y_train)\n",
    "    poly_reg_model4 = LinearRegression()\n",
    "    poly_reg_model4.fit(poly_features_train4, y_train)\n",
    "    \n",
    "    y_pred2 = poly_reg_model2.predict(poly_features_test2)\n",
    "    rmse_poly2 += mean_squared_error(y_test, y_pred2, squared=False)\n",
    "    \n",
    "    y_pred3 = poly_reg_model3.predict(poly_features_test3)\n",
    "    rmse_poly3 += mean_squared_error(y_test, y_pred3, squared=False)\n",
    "\n",
    "    y_pred4 = poly_reg_model4.predict(poly_features_test4)\n",
    "    rmse_poly4 += mean_squared_error(y_test, y_pred4, squared=False)\n",
    "    \n",
    "    reg = LinearRegression().fit(X_train, y_train)\n",
    "    y_pred = reg.predict(X_test)\n",
    "    rmse_linear += mean_squared_error(y_test, y_pred, squared=False)\n",
    "    \n",
    "    reg_rf = RandomForestRegressor()\n",
    "    reg_rf.fit(X_train, y_train)\n",
    "    y_pred_rf = reg_rf.predict(X_test)\n",
    "    rmse_random_forest += mean_squared_error(y_test, y_pred_rf, squared=False)\n",
    "    \n",
    "print('rmse_linear = ', rmse_linear/k_folds)\n",
    "print('rmse_poly2 = ', rmse_poly2/k_folds)\n",
    "print('rmse_poly3 = ', rmse_poly3/k_folds)\n",
    "print('rmse_poly4 = ', rmse_poly4/k_folds)\n",
    "print('rmse random forest = ', rmse_random_forest/k_folds)"
   ]
  },
  {
   "cell_type": "markdown",
   "metadata": {},
   "source": [
    "# With reference"
   ]
  },
  {
   "cell_type": "code",
   "execution_count": 45,
   "metadata": {},
   "outputs": [
    {
     "data": {
      "text/html": [
       "<div>\n",
       "<style scoped>\n",
       "    .dataframe tbody tr th:only-of-type {\n",
       "        vertical-align: middle;\n",
       "    }\n",
       "\n",
       "    .dataframe tbody tr th {\n",
       "        vertical-align: top;\n",
       "    }\n",
       "\n",
       "    .dataframe thead th {\n",
       "        text-align: right;\n",
       "    }\n",
       "</style>\n",
       "<table border=\"1\" class=\"dataframe\">\n",
       "  <thead>\n",
       "    <tr style=\"text-align: right;\">\n",
       "      <th></th>\n",
       "      <th>base</th>\n",
       "      <th>rate ID</th>\n",
       "      <th>period start</th>\n",
       "      <th>period end</th>\n",
       "      <th>fee</th>\n",
       "      <th>days_diff</th>\n",
       "    </tr>\n",
       "  </thead>\n",
       "  <tbody>\n",
       "    <tr>\n",
       "      <th>0</th>\n",
       "      <td>0,00</td>\n",
       "      <td>313d1da6-b871-4c3c-893b-54bd1c5b8cec</td>\n",
       "      <td>2021-02-17</td>\n",
       "      <td>2021-10-14</td>\n",
       "      <td>0,00</td>\n",
       "      <td>239.0</td>\n",
       "    </tr>\n",
       "    <tr>\n",
       "      <th>1</th>\n",
       "      <td>4587,00</td>\n",
       "      <td>f1d64162-1af0-4f79-b9a3-f5247ea07809</td>\n",
       "      <td>2021-07-13</td>\n",
       "      <td>2021-08-19</td>\n",
       "      <td>8,37</td>\n",
       "      <td>37.0</td>\n",
       "    </tr>\n",
       "    <tr>\n",
       "      <th>2</th>\n",
       "      <td>470,00</td>\n",
       "      <td>313d1da6-b871-4c3c-893b-54bd1c5b8cec</td>\n",
       "      <td>2021-09-05</td>\n",
       "      <td>2021-11-23</td>\n",
       "      <td>3,05</td>\n",
       "      <td>79.0</td>\n",
       "    </tr>\n",
       "    <tr>\n",
       "      <th>3</th>\n",
       "      <td>9347,00</td>\n",
       "      <td>240ee602-ad4f-4792-8ca8-ab813a2ea6b3</td>\n",
       "      <td>2021-05-20</td>\n",
       "      <td>2021-09-13</td>\n",
       "      <td>8,91</td>\n",
       "      <td>116.0</td>\n",
       "    </tr>\n",
       "    <tr>\n",
       "      <th>4</th>\n",
       "      <td>8310,00</td>\n",
       "      <td>1e760cd7-30f5-4e7b-a77e-3e678116a82a</td>\n",
       "      <td>2021-01-13</td>\n",
       "      <td>2021-01-31</td>\n",
       "      <td>2,46</td>\n",
       "      <td>18.0</td>\n",
       "    </tr>\n",
       "  </tbody>\n",
       "</table>\n",
       "</div>"
      ],
      "text/plain": [
       "      base                               rate ID period start period end  \\\n",
       "0     0,00  313d1da6-b871-4c3c-893b-54bd1c5b8cec   2021-02-17 2021-10-14   \n",
       "1  4587,00  f1d64162-1af0-4f79-b9a3-f5247ea07809   2021-07-13 2021-08-19   \n",
       "2   470,00  313d1da6-b871-4c3c-893b-54bd1c5b8cec   2021-09-05 2021-11-23   \n",
       "3  9347,00  240ee602-ad4f-4792-8ca8-ab813a2ea6b3   2021-05-20 2021-09-13   \n",
       "4  8310,00  1e760cd7-30f5-4e7b-a77e-3e678116a82a   2021-01-13 2021-01-31   \n",
       "\n",
       "    fee  days_diff  \n",
       "0  0,00      239.0  \n",
       "1  8,37       37.0  \n",
       "2  3,05       79.0  \n",
       "3  8,91      116.0  \n",
       "4  2,46       18.0  "
      ]
     },
     "execution_count": 45,
     "metadata": {},
     "output_type": "execute_result"
    }
   ],
   "source": [
    "df = pd.read_csv('reference.1.csv', sep=';')\n",
    "df = df[['base', 'rate ID', 'period start', 'period end', 'fee']]\n",
    "df['period start'] = pd.to_datetime(df['period start'], format=\"%d/%m/%Y\")\n",
    "df['period end'] = pd.to_datetime(df['period end'], format=\"%d/%m/%Y\")\n",
    "df['days_diff'] = (df['period end'] - df['period start']).dt.days\n",
    "#df['end_day'] = df['period end'].dt.day\n",
    "#df['start_day'] = df['period start'].dt.day\n",
    "#df['end_month'] = df['period end'].dt.month\n",
    "#df['start_month'] = df['period start'].dt.month\n",
    "\n",
    "df.head()"
   ]
  },
  {
   "cell_type": "code",
   "execution_count": 46,
   "metadata": {},
   "outputs": [
    {
     "data": {
      "text/html": [
       "<div>\n",
       "<style scoped>\n",
       "    .dataframe tbody tr th:only-of-type {\n",
       "        vertical-align: middle;\n",
       "    }\n",
       "\n",
       "    .dataframe tbody tr th {\n",
       "        vertical-align: top;\n",
       "    }\n",
       "\n",
       "    .dataframe thead th {\n",
       "        text-align: right;\n",
       "    }\n",
       "</style>\n",
       "<table border=\"1\" class=\"dataframe\">\n",
       "  <thead>\n",
       "    <tr style=\"text-align: right;\">\n",
       "      <th></th>\n",
       "      <th>ID</th>\n",
       "      <th>Rate</th>\n",
       "    </tr>\n",
       "  </thead>\n",
       "  <tbody>\n",
       "    <tr>\n",
       "      <th>0</th>\n",
       "      <td>313d1da6-b871-4c3c-893b-54bd1c5b8cec</td>\n",
       "      <td>3,00</td>\n",
       "    </tr>\n",
       "    <tr>\n",
       "      <th>1</th>\n",
       "      <td>5a3eb9fa-f7b5-4e44-8506-c4359050f980</td>\n",
       "      <td>2,70</td>\n",
       "    </tr>\n",
       "    <tr>\n",
       "      <th>2</th>\n",
       "      <td>1f1f54f1-6263-496c-9dbf-72fa5deef60f</td>\n",
       "      <td>2,40</td>\n",
       "    </tr>\n",
       "    <tr>\n",
       "      <th>3</th>\n",
       "      <td>2e88dfaa-e4ae-438b-90b3-b9af1e99e789</td>\n",
       "      <td>2,10</td>\n",
       "    </tr>\n",
       "    <tr>\n",
       "      <th>4</th>\n",
       "      <td>f1d64162-1af0-4f79-b9a3-f5247ea07809</td>\n",
       "      <td>1,80</td>\n",
       "    </tr>\n",
       "  </tbody>\n",
       "</table>\n",
       "</div>"
      ],
      "text/plain": [
       "                                     ID  Rate\n",
       "0  313d1da6-b871-4c3c-893b-54bd1c5b8cec  3,00\n",
       "1  5a3eb9fa-f7b5-4e44-8506-c4359050f980  2,70\n",
       "2  1f1f54f1-6263-496c-9dbf-72fa5deef60f  2,40\n",
       "3  2e88dfaa-e4ae-438b-90b3-b9af1e99e789  2,10\n",
       "4  f1d64162-1af0-4f79-b9a3-f5247ea07809  1,80"
      ]
     },
     "execution_count": 46,
     "metadata": {},
     "output_type": "execute_result"
    }
   ],
   "source": [
    "df2 = pd.read_csv('reference.2.csv', sep=';')\n",
    "df2 = df2[['ID', 'Rate']]\n",
    "dic_id_rate = {}\n",
    "for ind in df2.index:\n",
    "    rate_id = df2.loc[ind, 'ID']\n",
    "    rate = df2.loc[ind, 'Rate']\n",
    "    dic_id_rate[rate_id] = rate\n",
    "df2.head()"
   ]
  },
  {
   "cell_type": "code",
   "execution_count": 47,
   "metadata": {},
   "outputs": [],
   "source": [
    "df = df.replace({\"rate ID\": dic_id_rate})\n",
    "df['rate'] = df['rate ID']\n",
    "df = df.drop(['rate ID'], axis=1)"
   ]
  },
  {
   "cell_type": "code",
   "execution_count": 48,
   "metadata": {
    "scrolled": true
   },
   "outputs": [],
   "source": [
    "df = df.replace(regex=[','],value='.')"
   ]
  },
  {
   "cell_type": "code",
   "execution_count": 49,
   "metadata": {},
   "outputs": [],
   "source": [
    "df = df.dropna()"
   ]
  },
  {
   "cell_type": "code",
   "execution_count": 50,
   "metadata": {},
   "outputs": [],
   "source": [
    "df['base'] = pd.to_numeric(df['base'])\n",
    "df['fee'] = pd.to_numeric(df['fee'])\n",
    "df['rate'] = pd.to_numeric(df['rate'])\n",
    "df['days_diff'] = pd.to_numeric(df['days_diff'])"
   ]
  },
  {
   "cell_type": "code",
   "execution_count": 39,
   "metadata": {},
   "outputs": [
    {
     "name": "stdout",
     "output_type": "stream",
     "text": [
      "100\n",
      "91\n"
     ]
    }
   ],
   "source": [
    "df['fee'] = df['fee']*100\n",
    "df['rate'] = df['rate']*100\n",
    "print(len(df))\n",
    "print(len(df['fee'].unique()))"
   ]
  },
  {
   "cell_type": "code",
   "execution_count": 51,
   "metadata": {},
   "outputs": [
    {
     "data": {
      "image/png": "[encoded data removed]",
      "text/plain": [
       "<Figure size 432x288 with 2 Axes>"
      ]
     },
     "metadata": {
      "needs_background": "light"
     },
     "output_type": "display_data"
    }
   ],
   "source": [
    "sns.heatmap(df.corr(), annot=True);"
   ]
  },
  {
   "cell_type": "code",
   "execution_count": 52,
   "metadata": {},
   "outputs": [
    {
     "data": {
      "text/html": [
       "<div>\n",
       "<style scoped>\n",
       "    .dataframe tbody tr th:only-of-type {\n",
       "        vertical-align: middle;\n",
       "    }\n",
       "\n",
       "    .dataframe tbody tr th {\n",
       "        vertical-align: top;\n",
       "    }\n",
       "\n",
       "    .dataframe thead th {\n",
       "        text-align: right;\n",
       "    }\n",
       "</style>\n",
       "<table border=\"1\" class=\"dataframe\">\n",
       "  <thead>\n",
       "    <tr style=\"text-align: right;\">\n",
       "      <th></th>\n",
       "      <th>base</th>\n",
       "      <th>period start</th>\n",
       "      <th>period end</th>\n",
       "      <th>fee</th>\n",
       "      <th>days_diff</th>\n",
       "      <th>rate</th>\n",
       "    </tr>\n",
       "  </thead>\n",
       "  <tbody>\n",
       "    <tr>\n",
       "      <th>0</th>\n",
       "      <td>0.0</td>\n",
       "      <td>2021-02-17</td>\n",
       "      <td>2021-10-14</td>\n",
       "      <td>0.00</td>\n",
       "      <td>239.0</td>\n",
       "      <td>3.0</td>\n",
       "    </tr>\n",
       "    <tr>\n",
       "      <th>1</th>\n",
       "      <td>4587.0</td>\n",
       "      <td>2021-07-13</td>\n",
       "      <td>2021-08-19</td>\n",
       "      <td>8.37</td>\n",
       "      <td>37.0</td>\n",
       "      <td>1.8</td>\n",
       "    </tr>\n",
       "    <tr>\n",
       "      <th>2</th>\n",
       "      <td>470.0</td>\n",
       "      <td>2021-09-05</td>\n",
       "      <td>2021-11-23</td>\n",
       "      <td>3.05</td>\n",
       "      <td>79.0</td>\n",
       "      <td>3.0</td>\n",
       "    </tr>\n",
       "    <tr>\n",
       "      <th>3</th>\n",
       "      <td>9347.0</td>\n",
       "      <td>2021-05-20</td>\n",
       "      <td>2021-09-13</td>\n",
       "      <td>8.91</td>\n",
       "      <td>116.0</td>\n",
       "      <td>0.3</td>\n",
       "    </tr>\n",
       "    <tr>\n",
       "      <th>4</th>\n",
       "      <td>8310.0</td>\n",
       "      <td>2021-01-13</td>\n",
       "      <td>2021-01-31</td>\n",
       "      <td>2.46</td>\n",
       "      <td>18.0</td>\n",
       "      <td>0.6</td>\n",
       "    </tr>\n",
       "  </tbody>\n",
       "</table>\n",
       "</div>"
      ],
      "text/plain": [
       "     base period start period end   fee  days_diff  rate\n",
       "0     0.0   2021-02-17 2021-10-14  0.00      239.0   3.0\n",
       "1  4587.0   2021-07-13 2021-08-19  8.37       37.0   1.8\n",
       "2   470.0   2021-09-05 2021-11-23  3.05       79.0   3.0\n",
       "3  9347.0   2021-05-20 2021-09-13  8.91      116.0   0.3\n",
       "4  8310.0   2021-01-13 2021-01-31  2.46       18.0   0.6"
      ]
     },
     "execution_count": 52,
     "metadata": {},
     "output_type": "execute_result"
    }
   ],
   "source": [
    "df.head()"
   ]
  },
  {
   "cell_type": "code",
   "execution_count": 53,
   "metadata": {},
   "outputs": [],
   "source": [
    "X = np.array(df[['base', 'days_diff','rate']])\n",
    "\n",
    "y = np.array(df['fee'])\n",
    "y = pd.to_numeric(y)"
   ]
  },
  {
   "cell_type": "code",
   "execution_count": 54,
   "metadata": {},
   "outputs": [],
   "source": [
    "scaler = MinMaxScaler(feature_range=(0, 1))\n",
    "scaler.fit(X)\n",
    "X = scaler.transform(X)"
   ]
  },
  {
   "cell_type": "code",
   "execution_count": 55,
   "metadata": {
    "scrolled": true
   },
   "outputs": [
    {
     "name": "stdout",
     "output_type": "stream",
     "text": [
      "rmse_linear =  7.3122654467074195\n",
      "rmse_poly2 =  6.7797075231002735\n",
      "rmse_poly3 =  0.0038487647091470707\n",
      "rmse_poly4 =  0.010762304039485391\n",
      "rmse random forest =  4.649304207518375\n"
     ]
    }
   ],
   "source": [
    "poly2 = PolynomialFeatures(degree=2)\n",
    "poly3 = PolynomialFeatures(degree=3)\n",
    "poly4 = PolynomialFeatures(degree=4)\n",
    "\n",
    "rmse_linear = 0\n",
    "rmse_poly2 = 0\n",
    "rmse_poly3 = 0\n",
    "rmse_poly4 = 0\n",
    "rmse_random_forest = 0\n",
    "\n",
    "k_folds = 5\n",
    "for fold in range(k_folds):\n",
    "    X_train, X_test, y_train, y_test = train_test_split(\n",
    "        X, y, test_size=0.20)\n",
    "    poly_features_train2 = poly2.fit_transform(X_train)\n",
    "    poly_features_test2 = poly2.fit_transform(X_test)\n",
    "    poly_features_train3 = poly3.fit_transform(X_train)\n",
    "    poly_features_test3 = poly3.fit_transform(X_test)\n",
    "    poly_features_train4 = poly4.fit_transform(X_train)\n",
    "    poly_features_test4 = poly4.fit_transform(X_test)\n",
    "    poly_reg_model2 = LinearRegression()\n",
    "    poly_reg_model2.fit(poly_features_train2, y_train)\n",
    "    poly_reg_model3 = LinearRegression()\n",
    "    poly_reg_model3.fit(poly_features_train3, y_train)\n",
    "    poly_reg_model4 = LinearRegression()\n",
    "    poly_reg_model4.fit(poly_features_train4, y_train)\n",
    "    \n",
    "    y_pred2 = poly_reg_model2.predict(poly_features_test2)\n",
    "    rmse_poly2 += mean_squared_error(y_test, y_pred2, squared=False)\n",
    "    \n",
    "    y_pred3 = poly_reg_model3.predict(poly_features_test3)\n",
    "    rmse_poly3 += mean_squared_error(y_test, y_pred3, squared=False)\n",
    "\n",
    "    y_pred4 = poly_reg_model4.predict(poly_features_test4)\n",
    "    rmse_poly4 += mean_squared_error(y_test, y_pred4, squared=False)\n",
    "    \n",
    "    reg = LinearRegression().fit(X_train, y_train)\n",
    "    y_pred = reg.predict(X_test)\n",
    "    rmse_linear += mean_squared_error(y_test, y_pred, squared=False)\n",
    "    \n",
    "    reg_rf = RandomForestRegressor()\n",
    "    reg_rf.fit(X_train, y_train)\n",
    "    y_pred_rf = reg_rf.predict(X_test)\n",
    "    rmse_random_forest += mean_squared_error(y_test, y_pred_rf, squared=False)\n",
    "    \n",
    "print('rmse_linear = ', rmse_linear/k_folds)\n",
    "print('rmse_poly2 = ', rmse_poly2/k_folds)\n",
    "print('rmse_poly3 = ', rmse_poly3/k_folds)\n",
    "print('rmse_poly4 = ', rmse_poly4/k_folds)\n",
    "print('rmse random forest = ', rmse_random_forest/k_folds)"
   ]
  },
  {
   "cell_type": "markdown",
   "metadata": {},
   "source": [
    "# With Lookup"
   ]
  },
  {
   "cell_type": "code",
   "execution_count": 102,
   "metadata": {},
   "outputs": [
    {
     "data": {
      "text/html": [
       "<div>\n",
       "<style scoped>\n",
       "    .dataframe tbody tr th:only-of-type {\n",
       "        vertical-align: middle;\n",
       "    }\n",
       "\n",
       "    .dataframe tbody tr th {\n",
       "        vertical-align: top;\n",
       "    }\n",
       "\n",
       "    .dataframe thead th {\n",
       "        text-align: right;\n",
       "    }\n",
       "</style>\n",
       "<table border=\"1\" class=\"dataframe\">\n",
       "  <thead>\n",
       "    <tr style=\"text-align: right;\">\n",
       "      <th></th>\n",
       "      <th>base</th>\n",
       "      <th>period start</th>\n",
       "      <th>period end</th>\n",
       "      <th>fee</th>\n",
       "      <th>days_diff</th>\n",
       "    </tr>\n",
       "  </thead>\n",
       "  <tbody>\n",
       "    <tr>\n",
       "      <th>0</th>\n",
       "      <td>0.0</td>\n",
       "      <td>2021-02-17</td>\n",
       "      <td>2021-10-14</td>\n",
       "      <td>0.00</td>\n",
       "      <td>239</td>\n",
       "    </tr>\n",
       "    <tr>\n",
       "      <th>1</th>\n",
       "      <td>4587.0</td>\n",
       "      <td>2021-07-13</td>\n",
       "      <td>2021-08-19</td>\n",
       "      <td>8.37</td>\n",
       "      <td>37</td>\n",
       "    </tr>\n",
       "    <tr>\n",
       "      <th>2</th>\n",
       "      <td>470.0</td>\n",
       "      <td>2021-09-05</td>\n",
       "      <td>2021-11-23</td>\n",
       "      <td>3.05</td>\n",
       "      <td>79</td>\n",
       "    </tr>\n",
       "    <tr>\n",
       "      <th>3</th>\n",
       "      <td>9347.0</td>\n",
       "      <td>2021-05-20</td>\n",
       "      <td>2021-09-13</td>\n",
       "      <td>8.91</td>\n",
       "      <td>116</td>\n",
       "    </tr>\n",
       "    <tr>\n",
       "      <th>4</th>\n",
       "      <td>8310.0</td>\n",
       "      <td>2021-01-13</td>\n",
       "      <td>2021-01-31</td>\n",
       "      <td>2.46</td>\n",
       "      <td>18</td>\n",
       "    </tr>\n",
       "  </tbody>\n",
       "</table>\n",
       "</div>"
      ],
      "text/plain": [
       "     base period start period end   fee  days_diff\n",
       "0     0.0   2021-02-17 2021-10-14  0.00        239\n",
       "1  4587.0   2021-07-13 2021-08-19  8.37         37\n",
       "2   470.0   2021-09-05 2021-11-23  3.05         79\n",
       "3  9347.0   2021-05-20 2021-09-13  8.91        116\n",
       "4  8310.0   2021-01-13 2021-01-31  2.46         18"
      ]
     },
     "execution_count": 102,
     "metadata": {},
     "output_type": "execute_result"
    }
   ],
   "source": [
    "df = pd.read_csv('with_lookup.csv', sep=';')\n",
    "df['period start'] = pd.to_datetime(df['period start'], format=\"%d/%m/%Y\")\n",
    "df['period end'] = pd.to_datetime(df['period end'], format=\"%d/%m/%Y\")\n",
    "\n",
    "df = df[['base', 'period start', 'period end', 'fee']]\n",
    "df = df.replace(regex=[','],value='.')\n",
    "df = df.dropna()\n",
    "df['base'] = pd.to_numeric(df['base'])\n",
    "df['fee'] = pd.to_numeric(df['fee'])\n",
    "df['days_diff'] = (df['period end'] - df['period start']).dt.days\n",
    "df.head()"
   ]
  },
  {
   "cell_type": "code",
   "execution_count": 103,
   "metadata": {},
   "outputs": [
    {
     "data": {
      "text/html": [
       "<div>\n",
       "<style scoped>\n",
       "    .dataframe tbody tr th:only-of-type {\n",
       "        vertical-align: middle;\n",
       "    }\n",
       "\n",
       "    .dataframe tbody tr th {\n",
       "        vertical-align: top;\n",
       "    }\n",
       "\n",
       "    .dataframe thead th {\n",
       "        text-align: right;\n",
       "    }\n",
       "</style>\n",
       "<table border=\"1\" class=\"dataframe\">\n",
       "  <thead>\n",
       "    <tr style=\"text-align: right;\">\n",
       "      <th></th>\n",
       "      <th>Lower limit</th>\n",
       "      <th>Upper limit</th>\n",
       "      <th>Rate</th>\n",
       "    </tr>\n",
       "  </thead>\n",
       "  <tbody>\n",
       "    <tr>\n",
       "      <th>0</th>\n",
       "      <td>0.0</td>\n",
       "      <td>1000.0</td>\n",
       "      <td>3.00</td>\n",
       "    </tr>\n",
       "    <tr>\n",
       "      <th>1</th>\n",
       "      <td>1000.0</td>\n",
       "      <td>2000.0</td>\n",
       "      <td>2.70</td>\n",
       "    </tr>\n",
       "    <tr>\n",
       "      <th>2</th>\n",
       "      <td>2000.0</td>\n",
       "      <td>3000.0</td>\n",
       "      <td>2.40</td>\n",
       "    </tr>\n",
       "    <tr>\n",
       "      <th>3</th>\n",
       "      <td>3000.0</td>\n",
       "      <td>4000.0</td>\n",
       "      <td>2.10</td>\n",
       "    </tr>\n",
       "    <tr>\n",
       "      <th>4</th>\n",
       "      <td>4000.0</td>\n",
       "      <td>5000.0</td>\n",
       "      <td>1.80</td>\n",
       "    </tr>\n",
       "  </tbody>\n",
       "</table>\n",
       "</div>"
      ],
      "text/plain": [
       "   Lower limit  Upper limit  Rate\n",
       "0          0.0       1000.0  3.00\n",
       "1       1000.0       2000.0  2.70\n",
       "2       2000.0       3000.0  2.40\n",
       "3       3000.0       4000.0  2.10\n",
       "4       4000.0       5000.0  1.80"
      ]
     },
     "execution_count": 103,
     "metadata": {},
     "output_type": "execute_result"
    }
   ],
   "source": [
    "df2 = pd.read_csv('with_lookup_rates.csv', sep=';')\n",
    "df2 = df2[['Lower limit', 'Upper limit', 'Rate']]\n",
    "df2 = df2.replace(regex=[','],value='.')\n",
    "df2 = df2.dropna()\n",
    "df2['Lower limit'] = pd.to_numeric(df2['Lower limit'])\n",
    "df2['Upper limit'] = pd.to_numeric(df2['Upper limit'])\n",
    "df2.head()"
   ]
  },
  {
   "cell_type": "code",
   "execution_count": 104,
   "metadata": {},
   "outputs": [],
   "source": [
    "df['rate'] = df['base']"
   ]
  },
  {
   "cell_type": "code",
   "execution_count": 105,
   "metadata": {},
   "outputs": [],
   "source": [
    "df.rate = df.rate//1000*1000"
   ]
  },
  {
   "cell_type": "code",
   "execution_count": 106,
   "metadata": {},
   "outputs": [
    {
     "data": {
      "text/html": [
       "<div>\n",
       "<style scoped>\n",
       "    .dataframe tbody tr th:only-of-type {\n",
       "        vertical-align: middle;\n",
       "    }\n",
       "\n",
       "    .dataframe tbody tr th {\n",
       "        vertical-align: top;\n",
       "    }\n",
       "\n",
       "    .dataframe thead th {\n",
       "        text-align: right;\n",
       "    }\n",
       "</style>\n",
       "<table border=\"1\" class=\"dataframe\">\n",
       "  <thead>\n",
       "    <tr style=\"text-align: right;\">\n",
       "      <th></th>\n",
       "      <th>Lower limit</th>\n",
       "      <th>Upper limit</th>\n",
       "      <th>Rate</th>\n",
       "    </tr>\n",
       "  </thead>\n",
       "  <tbody>\n",
       "    <tr>\n",
       "      <th>0</th>\n",
       "      <td>0.0</td>\n",
       "      <td>1000.0</td>\n",
       "      <td>3.00</td>\n",
       "    </tr>\n",
       "    <tr>\n",
       "      <th>1</th>\n",
       "      <td>1000.0</td>\n",
       "      <td>2000.0</td>\n",
       "      <td>2.70</td>\n",
       "    </tr>\n",
       "    <tr>\n",
       "      <th>2</th>\n",
       "      <td>2000.0</td>\n",
       "      <td>3000.0</td>\n",
       "      <td>2.40</td>\n",
       "    </tr>\n",
       "    <tr>\n",
       "      <th>3</th>\n",
       "      <td>3000.0</td>\n",
       "      <td>4000.0</td>\n",
       "      <td>2.10</td>\n",
       "    </tr>\n",
       "    <tr>\n",
       "      <th>4</th>\n",
       "      <td>4000.0</td>\n",
       "      <td>5000.0</td>\n",
       "      <td>1.80</td>\n",
       "    </tr>\n",
       "  </tbody>\n",
       "</table>\n",
       "</div>"
      ],
      "text/plain": [
       "   Lower limit  Upper limit  Rate\n",
       "0          0.0       1000.0  3.00\n",
       "1       1000.0       2000.0  2.70\n",
       "2       2000.0       3000.0  2.40\n",
       "3       3000.0       4000.0  2.10\n",
       "4       4000.0       5000.0  1.80"
      ]
     },
     "execution_count": 106,
     "metadata": {},
     "output_type": "execute_result"
    }
   ],
   "source": [
    "dic_id_lower_rate = {}\n",
    "for ind in df2.index:\n",
    "    lower_limit = df2.loc[ind, 'Lower limit']\n",
    "    rate = df2.loc[ind, 'Rate']\n",
    "    dic_id_lower_rate[lower_limit] = rate\n",
    "df2.head()"
   ]
  },
  {
   "cell_type": "code",
   "execution_count": 107,
   "metadata": {},
   "outputs": [],
   "source": [
    "df = df.replace({\"rate\": dic_id_lower_rate})"
   ]
  },
  {
   "cell_type": "code",
   "execution_count": 110,
   "metadata": {},
   "outputs": [],
   "source": [
    "df['rate'] = pd.to_numeric(df['rate'])"
   ]
  },
  {
   "cell_type": "code",
   "execution_count": 111,
   "metadata": {},
   "outputs": [
    {
     "data": {
      "image/png": "[encoded data removed]",
      "text/plain": [
       "<Figure size 432x288 with 2 Axes>"
      ]
     },
     "metadata": {
      "needs_background": "light"
     },
     "output_type": "display_data"
    }
   ],
   "source": [
    "sns.heatmap(df.corr(), annot=True);"
   ]
  },
  {
   "cell_type": "code",
   "execution_count": 112,
   "metadata": {},
   "outputs": [],
   "source": [
    "X = np.array(df[['base', 'days_diff', 'rate']])\n",
    "\n",
    "y = np.array(df['fee'])\n",
    "y = pd.to_numeric(y)"
   ]
  },
  {
   "cell_type": "code",
   "execution_count": 113,
   "metadata": {},
   "outputs": [],
   "source": [
    "scaler = MinMaxScaler(feature_range=(-1, 1))\n",
    "scaler.fit(X)\n",
    "X = scaler.transform(X)"
   ]
  },
  {
   "cell_type": "code",
   "execution_count": 114,
   "metadata": {},
   "outputs": [
    {
     "name": "stdout",
     "output_type": "stream",
     "text": [
      "rmse_linear =  6.205596131732467\n",
      "rmse_poly2 =  4.864213036811808\n",
      "rmse_poly3 =  0.003267954775953299\n",
      "rmse_poly4 =  0.0058783053736109914\n",
      "rmse random forest =  4.341916274883638\n"
     ]
    }
   ],
   "source": [
    "poly2 = PolynomialFeatures(degree=2, include_bias=True)\n",
    "poly3 = PolynomialFeatures(degree=3, include_bias=True)\n",
    "poly4 = PolynomialFeatures(degree=4, include_bias=True)\n",
    "\n",
    "rmse_linear = 0\n",
    "rmse_poly2 = 0\n",
    "rmse_poly3 = 0\n",
    "rmse_poly4 = 0\n",
    "rmse_random_forest = 0\n",
    "\n",
    "k_folds = 5\n",
    "for fold in range(k_folds):\n",
    "    X_train, X_test, y_train, y_test = train_test_split(\n",
    "        X, y, test_size=0.20)\n",
    "    poly_features_train2 = poly2.fit_transform(X_train)\n",
    "    poly_features_test2 = poly2.fit_transform(X_test)\n",
    "    poly_features_train3 = poly3.fit_transform(X_train)\n",
    "    poly_features_test3 = poly3.fit_transform(X_test)\n",
    "    poly_features_train4 = poly4.fit_transform(X_train)\n",
    "    poly_features_test4 = poly4.fit_transform(X_test)\n",
    "    poly_reg_model2 = LinearRegression()\n",
    "    poly_reg_model2.fit(poly_features_train2, y_train)\n",
    "    poly_reg_model3 = LinearRegression()\n",
    "    poly_reg_model3.fit(poly_features_train3, y_train)\n",
    "    poly_reg_model4 = LinearRegression()\n",
    "    poly_reg_model4.fit(poly_features_train4, y_train)\n",
    "    \n",
    "    y_pred2 = poly_reg_model2.predict(poly_features_test2)\n",
    "    rmse_poly2 += mean_squared_error(y_test, y_pred2, squared=False)\n",
    "    \n",
    "    y_pred3 = poly_reg_model3.predict(poly_features_test3)\n",
    "    rmse_poly3 += mean_squared_error(y_test, y_pred3, squared=False)\n",
    "\n",
    "    y_pred4 = poly_reg_model4.predict(poly_features_test4)\n",
    "    rmse_poly4 += mean_squared_error(y_test, y_pred4, squared=False)\n",
    "    \n",
    "    reg = LinearRegression().fit(X_train, y_train)\n",
    "    y_pred = reg.predict(X_test)\n",
    "    rmse_linear += mean_squared_error(y_test, y_pred, squared=False)\n",
    "    \n",
    "    reg_rf = RandomForestRegressor()\n",
    "    reg_rf.fit(X_train, y_train)\n",
    "    y_pred_rf = reg_rf.predict(X_test)\n",
    "    rmse_random_forest += mean_squared_error(y_test, y_pred_rf, squared=False)\n",
    "    \n",
    "print('rmse_linear = ', rmse_linear/k_folds)\n",
    "print('rmse_poly2 = ', rmse_poly2/k_folds)\n",
    "print('rmse_poly3 = ', rmse_poly3/k_folds)\n",
    "print('rmse_poly4 = ', rmse_poly4/k_folds)\n",
    "print('rmse random forest = ', rmse_random_forest/k_folds)"
   ]
  },
  {
   "cell_type": "markdown",
   "metadata": {},
   "source": [
    "# With period"
   ]
  },
  {
   "cell_type": "code",
   "execution_count": 69,
   "metadata": {},
   "outputs": [
    {
     "data": {
      "text/html": [
       "<div>\n",
       "<style scoped>\n",
       "    .dataframe tbody tr th:only-of-type {\n",
       "        vertical-align: middle;\n",
       "    }\n",
       "\n",
       "    .dataframe tbody tr th {\n",
       "        vertical-align: top;\n",
       "    }\n",
       "\n",
       "    .dataframe thead th {\n",
       "        text-align: right;\n",
       "    }\n",
       "</style>\n",
       "<table border=\"1\" class=\"dataframe\">\n",
       "  <thead>\n",
       "    <tr style=\"text-align: right;\">\n",
       "      <th></th>\n",
       "      <th>base</th>\n",
       "      <th>rate</th>\n",
       "      <th>period start</th>\n",
       "      <th>period end</th>\n",
       "      <th>fee</th>\n",
       "      <th>days_diff</th>\n",
       "    </tr>\n",
       "  </thead>\n",
       "  <tbody>\n",
       "    <tr>\n",
       "      <th>0</th>\n",
       "      <td>0.0</td>\n",
       "      <td>3.0</td>\n",
       "      <td>2021-02-17</td>\n",
       "      <td>2021-10-14</td>\n",
       "      <td>0.00</td>\n",
       "      <td>239</td>\n",
       "    </tr>\n",
       "    <tr>\n",
       "      <th>1</th>\n",
       "      <td>4587.0</td>\n",
       "      <td>1.8</td>\n",
       "      <td>2021-07-13</td>\n",
       "      <td>2021-08-19</td>\n",
       "      <td>8.37</td>\n",
       "      <td>37</td>\n",
       "    </tr>\n",
       "    <tr>\n",
       "      <th>2</th>\n",
       "      <td>470.0</td>\n",
       "      <td>3.0</td>\n",
       "      <td>2021-09-05</td>\n",
       "      <td>2021-11-23</td>\n",
       "      <td>3.05</td>\n",
       "      <td>79</td>\n",
       "    </tr>\n",
       "    <tr>\n",
       "      <th>3</th>\n",
       "      <td>9347.0</td>\n",
       "      <td>0.3</td>\n",
       "      <td>2021-05-20</td>\n",
       "      <td>2021-09-13</td>\n",
       "      <td>8.91</td>\n",
       "      <td>116</td>\n",
       "    </tr>\n",
       "    <tr>\n",
       "      <th>4</th>\n",
       "      <td>8310.0</td>\n",
       "      <td>0.6</td>\n",
       "      <td>2021-01-13</td>\n",
       "      <td>2021-01-31</td>\n",
       "      <td>2.46</td>\n",
       "      <td>18</td>\n",
       "    </tr>\n",
       "  </tbody>\n",
       "</table>\n",
       "</div>"
      ],
      "text/plain": [
       "     base  rate period start period end   fee  days_diff\n",
       "0     0.0   3.0   2021-02-17 2021-10-14  0.00        239\n",
       "1  4587.0   1.8   2021-07-13 2021-08-19  8.37         37\n",
       "2   470.0   3.0   2021-09-05 2021-11-23  3.05         79\n",
       "3  9347.0   0.3   2021-05-20 2021-09-13  8.91        116\n",
       "4  8310.0   0.6   2021-01-13 2021-01-31  2.46         18"
      ]
     },
     "execution_count": 69,
     "metadata": {},
     "output_type": "execute_result"
    }
   ],
   "source": [
    "df = pd.read_csv('with_period.csv', sep=';')\n",
    "df['period start'] = pd.to_datetime(df['period start'], format=\"%d/%m/%Y\")\n",
    "df['period end'] = pd.to_datetime(df['period end'], format=\"%d/%m/%Y\")\n",
    "df = df[['base', 'rate', 'period start', 'period end', 'fee']]\n",
    "df = df.replace(regex=[','],value='.')\n",
    "df = df.dropna()\n",
    "df['base'] = pd.to_numeric(df['base'])\n",
    "df['fee'] = pd.to_numeric(df['fee'])\n",
    "df['rate'] = pd.to_numeric(df['rate'])\n",
    "df['days_diff'] = (df['period end'] - df['period start']).dt.days\n",
    "df.head()"
   ]
  },
  {
   "cell_type": "code",
   "execution_count": 70,
   "metadata": {},
   "outputs": [
    {
     "data": {
      "image/png": "[encoded data removed]",
      "text/plain": [
       "<Figure size 432x288 with 2 Axes>"
      ]
     },
     "metadata": {
      "needs_background": "light"
     },
     "output_type": "display_data"
    }
   ],
   "source": [
    "sns.heatmap(df.corr(), annot=True);"
   ]
  },
  {
   "cell_type": "code",
   "execution_count": 71,
   "metadata": {},
   "outputs": [],
   "source": [
    "X = np.array(df[['base', 'rate', 'days_diff']])\n",
    "\n",
    "y = np.array(df['fee'])\n",
    "y = pd.to_numeric(y)"
   ]
  },
  {
   "cell_type": "code",
   "execution_count": 72,
   "metadata": {},
   "outputs": [],
   "source": [
    "scaler = MinMaxScaler(feature_range=(0, 1))\n",
    "scaler.fit(X)\n",
    "X = scaler.transform(X)"
   ]
  },
  {
   "cell_type": "code",
   "execution_count": 73,
   "metadata": {},
   "outputs": [
    {
     "name": "stdout",
     "output_type": "stream",
     "text": [
      "rmse_linear =  7.246391314821172\n",
      "rmse_poly2 =  6.3903938789824215\n",
      "rmse_poly3 =  0.003521971075640245\n",
      "rmse_poly4 =  0.011994904457639972\n",
      "rmse random forest =  4.80601124392939\n"
     ]
    }
   ],
   "source": [
    "poly2 = PolynomialFeatures(degree=2, include_bias=True)\n",
    "poly3 = PolynomialFeatures(degree=3, include_bias=True)\n",
    "poly4 = PolynomialFeatures(degree=4, include_bias=True)\n",
    "\n",
    "rmse_linear = 0\n",
    "rmse_poly2 = 0\n",
    "rmse_poly3 = 0\n",
    "rmse_poly4 = 0\n",
    "rmse_random_forest = 0\n",
    "\n",
    "k_folds = 5\n",
    "for fold in range(k_folds):\n",
    "    X_train, X_test, y_train, y_test = train_test_split(\n",
    "        X, y, test_size=0.20)\n",
    "    poly_features_train2 = poly2.fit_transform(X_train)\n",
    "    poly_features_test2 = poly2.fit_transform(X_test)\n",
    "    poly_features_train3 = poly3.fit_transform(X_train)\n",
    "    poly_features_test3 = poly3.fit_transform(X_test)\n",
    "    poly_features_train4 = poly4.fit_transform(X_train)\n",
    "    poly_features_test4 = poly4.fit_transform(X_test)\n",
    "    poly_reg_model2 = LinearRegression()\n",
    "    poly_reg_model2.fit(poly_features_train2, y_train)\n",
    "    poly_reg_model3 = LinearRegression()\n",
    "    poly_reg_model3.fit(poly_features_train3, y_train)\n",
    "    poly_reg_model4 = LinearRegression()\n",
    "    poly_reg_model4.fit(poly_features_train4, y_train)\n",
    "    \n",
    "    y_pred2 = poly_reg_model2.predict(poly_features_test2)\n",
    "    rmse_poly2 += mean_squared_error(y_test, y_pred2, squared=False)\n",
    "    \n",
    "    y_pred3 = poly_reg_model3.predict(poly_features_test3)\n",
    "    rmse_poly3 += mean_squared_error(y_test, y_pred3, squared=False)\n",
    "\n",
    "    y_pred4 = poly_reg_model4.predict(poly_features_test4)\n",
    "    rmse_poly4 += mean_squared_error(y_test, y_pred4, squared=False)\n",
    "    \n",
    "    reg = LinearRegression().fit(X_train, y_train)\n",
    "    y_pred = reg.predict(X_test)\n",
    "    rmse_linear += mean_squared_error(y_test, y_pred, squared=False)\n",
    "    \n",
    "    reg_rf = RandomForestRegressor()\n",
    "    reg_rf.fit(X_train, y_train)\n",
    "    y_pred_rf = reg_rf.predict(X_test)\n",
    "    rmse_random_forest += mean_squared_error(y_test, y_pred_rf, squared=False)\n",
    "    \n",
    "print('rmse_linear = ', rmse_linear/k_folds)\n",
    "print('rmse_poly2 = ', rmse_poly2/k_folds)\n",
    "print('rmse_poly3 = ', rmse_poly3/k_folds)\n",
    "print('rmse_poly4 = ', rmse_poly4/k_folds)\n",
    "print('rmse random forest = ', rmse_random_forest/k_folds)"
   ]
  },
  {
   "cell_type": "code",
   "execution_count": null,
   "metadata": {},
   "outputs": [],
   "source": []
  }
 ],
 "metadata": {
  "kernelspec": {
   "display_name": "Python 3",
   "language": "python",
   "name": "python3"
  },
  "language_info": {
   "codemirror_mode": {
    "name": "ipython",
    "version": 3
   },
   "file_extension": ".py",
   "mimetype": "text/x-python",
   "name": "python",
   "nbconvert_exporter": "python",
   "pygments_lexer": "ipython3",
   "version": "3.8.11"
  }
 },
 "nbformat": 4,
 "nbformat_minor": 4
}
